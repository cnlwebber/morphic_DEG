{
 "cells": [
  {
   "cell_type": "markdown",
   "id": "26fffbae-195a-4c3a-a855-ad1e69bcc74c",
   "metadata": {},
   "source": [
    "## Study 2"
   ]
  },
  {
   "cell_type": "markdown",
   "id": "aee12a79-b574-4a37-bc97-7a7e687e57e2",
   "metadata": {},
   "source": [
    "## Install Bioconductor packages \n",
    "https://www.bioconductor.org/install/"
   ]
  },
  {
   "cell_type": "code",
   "execution_count": 4,
   "id": "8a67c3c8-2bac-4ea9-957b-93cb945dfd69",
   "metadata": {
    "scrolled": true
   },
   "outputs": [
    {
     "name": "stderr",
     "output_type": "stream",
     "text": [
      "Bioconductor version '3.18' is out-of-date; the current release version '3.20'\n",
      "  is available with R version '4.4'; see https://bioconductor.org/install\n",
      "\n",
      "'getOption(\"repos\")' replaces Bioconductor standard repositories, see\n",
      "'help(\"repositories\", package = \"BiocManager\")' for details.\n",
      "Replacement repositories:\n",
      "    CRAN: https://cran.r-project.org\n",
      "\n",
      "Bioconductor version 3.18 (BiocManager 1.30.25), R 4.3.3 (2024-02-29)\n",
      "\n",
      "Old packages: 'askpass', 'backports', 'bit', 'bit64', 'bitops', 'broom',\n",
      "  'bslib', 'caret', 'class', 'cli', 'clock', 'colorspace', 'commonmark',\n",
      "  'cpp11', 'crayon', 'credentials', 'curl', 'data.table', 'DBI', 'dials',\n",
      "  'downlit', 'e1071', 'evaluate', 'fontawesome', 'forecast', 'fs', 'future',\n",
      "  'future.apply', 'gert', 'gower', 'gtable', 'hardhat', 'hexbin', 'highr',\n",
      "  'httr2', 'ipred', 'jsonlite', 'KernSmooth', 'knitr', 'later', 'lava', 'lhs',\n",
      "  'lubridate', 'modeldata', 'modelenv', 'nlme', 'nnet', 'openssl',\n",
      "  'parallelly', 'parsnip', 'patchwork', 'pbdZMQ', 'pillar', 'pkgbuild',\n",
      "  'pkgdown', 'pkgload', 'processx', 'prodlim', 'profvis', 'progressr',\n",
      "  'promises', 'ps', 'purrr', 'R6', 'ragg', 'randomForest', 'Rcpp',\n",
      "  'RcppArmadillo', 'RCurl', 'readxl', 'recipes', 'reprex', 'rlang',\n",
      "  'rmarkdown', 'RODBC', 'roxygen2', 'rpart', 'RSQLite', 'rstudioapi',\n",
      "  'sessioninfo', 'shiny', 'slider', 'survival', 'sys', 'systemfonts',\n",
      "  'testthat', 'textshaping', 'tidymodels', 'timeDate', 'tinytex', 'tseries',\n",
      "  'tune', 'urca', 'usethis', 'uuid', 'waldo', 'withr', 'workflows', 'xfun',\n",
      "  'xml2', 'xts', 'yaml', 'yardstick', 'zip', 'zoo'\n",
      "\n",
      "'getOption(\"repos\")' replaces Bioconductor standard repositories, see\n",
      "'help(\"repositories\", package = \"BiocManager\")' for details.\n",
      "Replacement repositories:\n",
      "    CRAN: https://cran.r-project.org\n",
      "\n",
      "Bioconductor version 3.18 (BiocManager 1.30.25), R 4.3.3 (2024-02-29)\n",
      "\n",
      "Warning message:\n",
      "“package(s) not installed when version(s) same as or greater than current; use\n",
      "  `force = TRUE` to re-install: 'edgeR' 'ggplot2' 'DESeq2' 'rtracklayer'\n",
      "  'GenomicRanges'”\n",
      "Old packages: 'askpass', 'backports', 'bit', 'bit64', 'bitops', 'broom',\n",
      "  'bslib', 'caret', 'class', 'cli', 'clock', 'colorspace', 'commonmark',\n",
      "  'cpp11', 'crayon', 'credentials', 'curl', 'data.table', 'DBI', 'dials',\n",
      "  'downlit', 'e1071', 'evaluate', 'fontawesome', 'forecast', 'fs', 'future',\n",
      "  'future.apply', 'gert', 'gower', 'gtable', 'hardhat', 'hexbin', 'highr',\n",
      "  'httr2', 'ipred', 'jsonlite', 'KernSmooth', 'knitr', 'later', 'lava', 'lhs',\n",
      "  'lubridate', 'modeldata', 'modelenv', 'nlme', 'nnet', 'openssl',\n",
      "  'parallelly', 'parsnip', 'patchwork', 'pbdZMQ', 'pillar', 'pkgbuild',\n",
      "  'pkgdown', 'pkgload', 'processx', 'prodlim', 'profvis', 'progressr',\n",
      "  'promises', 'ps', 'purrr', 'R6', 'ragg', 'randomForest', 'Rcpp',\n",
      "  'RcppArmadillo', 'RCurl', 'readxl', 'recipes', 'reprex', 'rlang',\n",
      "  'rmarkdown', 'RODBC', 'roxygen2', 'rpart', 'RSQLite', 'rstudioapi',\n",
      "  'sessioninfo', 'shiny', 'slider', 'survival', 'sys', 'systemfonts',\n",
      "  'testthat', 'textshaping', 'tidymodels', 'timeDate', 'tinytex', 'tseries',\n",
      "  'tune', 'urca', 'usethis', 'uuid', 'waldo', 'withr', 'workflows', 'xfun',\n",
      "  'xml2', 'xts', 'yaml', 'yardstick', 'zip', 'zoo'\n",
      "\n",
      "Loading required package: limma\n",
      "\n",
      "Loading required package: S4Vectors\n",
      "\n",
      "Loading required package: stats4\n",
      "\n",
      "Loading required package: BiocGenerics\n",
      "\n",
      "\n",
      "Attaching package: ‘BiocGenerics’\n",
      "\n",
      "\n",
      "The following object is masked from ‘package:limma’:\n",
      "\n",
      "    plotMA\n",
      "\n",
      "\n",
      "The following objects are masked from ‘package:stats’:\n",
      "\n",
      "    IQR, mad, sd, var, xtabs\n",
      "\n",
      "\n",
      "The following objects are masked from ‘package:base’:\n",
      "\n",
      "    anyDuplicated, aperm, append, as.data.frame, basename, cbind,\n",
      "    colnames, dirname, do.call, duplicated, eval, evalq, Filter, Find,\n",
      "    get, grep, grepl, intersect, is.unsorted, lapply, Map, mapply,\n",
      "    match, mget, order, paste, pmax, pmax.int, pmin, pmin.int,\n",
      "    Position, rank, rbind, Reduce, rownames, sapply, setdiff, sort,\n",
      "    table, tapply, union, unique, unsplit, which.max, which.min\n",
      "\n",
      "\n",
      "\n",
      "Attaching package: ‘S4Vectors’\n",
      "\n",
      "\n",
      "The following object is masked from ‘package:utils’:\n",
      "\n",
      "    findMatches\n",
      "\n",
      "\n",
      "The following objects are masked from ‘package:base’:\n",
      "\n",
      "    expand.grid, I, unname\n",
      "\n",
      "\n",
      "Loading required package: IRanges\n",
      "\n",
      "Loading required package: GenomicRanges\n",
      "\n",
      "Loading required package: GenomeInfoDb\n",
      "\n",
      "Loading required package: SummarizedExperiment\n",
      "\n",
      "Loading required package: MatrixGenerics\n",
      "\n",
      "Loading required package: matrixStats\n",
      "\n",
      "\n",
      "Attaching package: ‘MatrixGenerics’\n",
      "\n",
      "\n",
      "The following objects are masked from ‘package:matrixStats’:\n",
      "\n",
      "    colAlls, colAnyNAs, colAnys, colAvgsPerRowSet, colCollapse,\n",
      "    colCounts, colCummaxs, colCummins, colCumprods, colCumsums,\n",
      "    colDiffs, colIQRDiffs, colIQRs, colLogSumExps, colMadDiffs,\n",
      "    colMads, colMaxs, colMeans2, colMedians, colMins, colOrderStats,\n",
      "    colProds, colQuantiles, colRanges, colRanks, colSdDiffs, colSds,\n",
      "    colSums2, colTabulates, colVarDiffs, colVars, colWeightedMads,\n",
      "    colWeightedMeans, colWeightedMedians, colWeightedSds,\n",
      "    colWeightedVars, rowAlls, rowAnyNAs, rowAnys, rowAvgsPerColSet,\n",
      "    rowCollapse, rowCounts, rowCummaxs, rowCummins, rowCumprods,\n",
      "    rowCumsums, rowDiffs, rowIQRDiffs, rowIQRs, rowLogSumExps,\n",
      "    rowMadDiffs, rowMads, rowMaxs, rowMeans2, rowMedians, rowMins,\n",
      "    rowOrderStats, rowProds, rowQuantiles, rowRanges, rowRanks,\n",
      "    rowSdDiffs, rowSds, rowSums2, rowTabulates, rowVarDiffs, rowVars,\n",
      "    rowWeightedMads, rowWeightedMeans, rowWeightedMedians,\n",
      "    rowWeightedSds, rowWeightedVars\n",
      "\n",
      "\n",
      "Loading required package: Biobase\n",
      "\n",
      "Welcome to Bioconductor\n",
      "\n",
      "    Vignettes contain introductory material; view with\n",
      "    'browseVignettes()'. To cite Bioconductor, see\n",
      "    'citation(\"Biobase\")', and for packages 'citation(\"pkgname\")'.\n",
      "\n",
      "\n",
      "\n",
      "Attaching package: ‘Biobase’\n",
      "\n",
      "\n",
      "The following object is masked from ‘package:MatrixGenerics’:\n",
      "\n",
      "    rowMedians\n",
      "\n",
      "\n",
      "The following objects are masked from ‘package:matrixStats’:\n",
      "\n",
      "    anyMissing, rowMedians\n",
      "\n",
      "\n"
     ]
    }
   ],
   "source": [
    "if (!require(\"BiocManager\", quietly = TRUE))\n",
    "    install.packages(\"BiocManager\")\n",
    "BiocManager::install(version = \"3.18\")\n",
    "BiocManager::install(c(\"edgeR\", \"ggplot2\", \"DESeq2\", \"rtracklayer\", \"GenomicRanges\"))\n",
    "library(ggplot2)\n",
    "library(edgeR)\n",
    "library (DESeq2)\n",
    "library(rtracklayer)\n",
    "library(GenomicRanges)"
   ]
  },
  {
   "cell_type": "markdown",
   "id": "8bf05e9f-3a66-4290-afa6-f5cbfe1f17a2",
   "metadata": {},
   "source": [
    "## Read in the counts and meta data"
   ]
  },
  {
   "cell_type": "code",
   "execution_count": 5,
   "id": "6589fd73-841d-4e8f-9a2a-df25cac45fbb",
   "metadata": {},
   "outputs": [
    {
     "data": {
      "text/html": [
       "<table class=\"dataframe\">\n",
       "<caption>A data.frame: 6 × 82</caption>\n",
       "<thead>\n",
       "\t<tr><th></th><th scope=col>MEIS2_CE_A06_GT23.12174_TGCGAGAC.CAACAATG_S1_L001</th><th scope=col>NC0A3_KO_A12_GT24.01167_TTGGACTC.CTGCTTCC_S147_L005</th><th scope=col>BMLHE40_CE_H05_GT24.00868_TAAGGTCA.CTACGACA_S192_L007</th><th scope=col>NC0A3_WT_1_GT24.01175_AACGTTCC.AGTACTCC_S144_L005</th><th scope=col>MDX1_CE_F07_GT23.10885_CGGACAAC.AATCCGGA_S40_L001</th><th scope=col>MEIS1_KO_H03_GT23.12161_GTGTCGGA.GCGCAAGC_S25_L001</th><th scope=col>MDX1_KOLF2_1_GT23.10876_GGCATTCT.CAAGCTAG_S8_L001</th><th scope=col>MDX1_KO_D01_GT23.10881_GATTCTGC.CTCTCGTC_S9_L001</th><th scope=col>MEF2C_CE_C07_GT23.13714_TGGATCGA.TATCGCAC_S158_L003</th><th scope=col>RUNX1_PTC_C12_GT23.13728_AACGTTCC.AGTACTCC_S176_L003</th><th scope=col>⋯</th><th scope=col>BMLHE40_CE_A06_GT24.00866_AGCTCGCT.GATTCTGC_S190_L007</th><th scope=col>BMLHE40_KO_D01_GT24.00865_GATCTATC.AGCCTCAT_S189_L007</th><th scope=col>MEIS1_WT_3_GT23.12158_TTGCCTAG.TAAGTGGT_S22_L001</th><th scope=col>MDX1_KOLF2_2_GT23.10877_AATGCCTC.TGGATCGA_S3_L001</th><th scope=col>MDX1_PTC_G10_GT23.10884_TAAGTGGT.GGCTTAAG_S34_L001</th><th scope=col>MEF2C_WT3_GT23.13709_GGACTTGG.CGTCTGCG_S166_L003</th><th scope=col>NC0A3_WT_2_GT24.01176_GCAGAATT.TGGCCGGT_S146_L005</th><th scope=col>NC0A3_CE_G05_GT24.01170_TAATACAG.GTGAATAT_S130_L005</th><th scope=col>MEF2C_PTC_B03_GT23.13717_TCTCTACT.GAACCGCG_S177_L003</th><th scope=col>RUNX1_KO_G07_GT23.13724_CGGCGTGA.ACAGGCGC_S175_L003</th></tr>\n",
       "\t<tr><th></th><th scope=col>&lt;dbl&gt;</th><th scope=col>&lt;dbl&gt;</th><th scope=col>&lt;dbl&gt;</th><th scope=col>&lt;dbl&gt;</th><th scope=col>&lt;dbl&gt;</th><th scope=col>&lt;dbl&gt;</th><th scope=col>&lt;dbl&gt;</th><th scope=col>&lt;dbl&gt;</th><th scope=col>&lt;dbl&gt;</th><th scope=col>&lt;dbl&gt;</th><th scope=col>⋯</th><th scope=col>&lt;dbl&gt;</th><th scope=col>&lt;dbl&gt;</th><th scope=col>&lt;dbl&gt;</th><th scope=col>&lt;dbl&gt;</th><th scope=col>&lt;dbl&gt;</th><th scope=col>&lt;dbl&gt;</th><th scope=col>&lt;dbl&gt;</th><th scope=col>&lt;dbl&gt;</th><th scope=col>&lt;dbl&gt;</th><th scope=col>&lt;dbl&gt;</th></tr>\n",
       "</thead>\n",
       "<tbody>\n",
       "\t<tr><th scope=row>ENSG00000268674</th><td>  0.000</td><td>  0.000</td><td>  0.000</td><td>  0.000</td><td>  0.000</td><td>  0.000</td><td>  0.00</td><td>  0.000</td><td>  0.000</td><td>   0.00</td><td>⋯</td><td>  0.000</td><td>  0.000</td><td>  0.00</td><td>  0.000</td><td>  0.000</td><td>  0.000</td><td>  0.000</td><td>   0.000</td><td>  0.000</td><td>   0.00</td></tr>\n",
       "\t<tr><th scope=row>ENSG00000271254</th><td>793.064</td><td>896.932</td><td>751.943</td><td>970.904</td><td>555.473</td><td>658.756</td><td>842.45</td><td>648.444</td><td>753.634</td><td>1307.49</td><td>⋯</td><td>820.668</td><td>774.844</td><td>665.28</td><td>765.082</td><td>763.869</td><td>655.266</td><td>863.372</td><td>1020.330</td><td>937.225</td><td>1079.16</td></tr>\n",
       "\t<tr><th scope=row>ENSG00000275063</th><td>  0.000</td><td>  0.000</td><td>  0.000</td><td>  0.000</td><td>  0.000</td><td>  0.000</td><td>  0.00</td><td>  0.000</td><td>  0.000</td><td>   0.00</td><td>⋯</td><td>  0.000</td><td>  0.000</td><td>  0.00</td><td>  0.000</td><td>  0.000</td><td>  0.000</td><td>  0.000</td><td>   0.000</td><td>  0.000</td><td>   0.00</td></tr>\n",
       "\t<tr><th scope=row>ENSG00000277856</th><td>  0.000</td><td>  0.000</td><td>  0.000</td><td>  0.000</td><td>  0.000</td><td>  0.000</td><td>  0.00</td><td>  0.000</td><td>  0.000</td><td>   0.00</td><td>⋯</td><td>  0.000</td><td>  0.000</td><td>  0.00</td><td>  0.000</td><td>  0.000</td><td>  0.000</td><td>  0.000</td><td>   0.000</td><td>  0.000</td><td>   0.00</td></tr>\n",
       "\t<tr><th scope=row>ENSG00000276345</th><td>  0.000</td><td>  0.000</td><td>  4.655</td><td>  0.000</td><td>  0.000</td><td>  0.000</td><td>  0.00</td><td>  0.000</td><td>  0.000</td><td>   0.00</td><td>⋯</td><td>  6.398</td><td>  0.000</td><td>  0.00</td><td>  0.000</td><td>  0.000</td><td>  0.000</td><td>  0.000</td><td>   2.037</td><td>  0.000</td><td>   0.00</td></tr>\n",
       "\t<tr><th scope=row>ENSG00000278633</th><td>  0.000</td><td>  0.000</td><td>  0.000</td><td>  0.000</td><td>  0.000</td><td>  1.000</td><td>  0.00</td><td>  0.000</td><td>  0.000</td><td>   0.00</td><td>⋯</td><td>  0.000</td><td>  0.000</td><td>  0.00</td><td>  0.000</td><td>  0.000</td><td>  0.000</td><td>  0.000</td><td>   0.000</td><td>  0.000</td><td>   0.00</td></tr>\n",
       "</tbody>\n",
       "</table>\n"
      ],
      "text/latex": [
       "A data.frame: 6 × 82\n",
       "\\begin{tabular}{r|lllllllllllllllllllll}\n",
       "  & MEIS2\\_CE\\_A06\\_GT23.12174\\_TGCGAGAC.CAACAATG\\_S1\\_L001 & NC0A3\\_KO\\_A12\\_GT24.01167\\_TTGGACTC.CTGCTTCC\\_S147\\_L005 & BMLHE40\\_CE\\_H05\\_GT24.00868\\_TAAGGTCA.CTACGACA\\_S192\\_L007 & NC0A3\\_WT\\_1\\_GT24.01175\\_AACGTTCC.AGTACTCC\\_S144\\_L005 & MDX1\\_CE\\_F07\\_GT23.10885\\_CGGACAAC.AATCCGGA\\_S40\\_L001 & MEIS1\\_KO\\_H03\\_GT23.12161\\_GTGTCGGA.GCGCAAGC\\_S25\\_L001 & MDX1\\_KOLF2\\_1\\_GT23.10876\\_GGCATTCT.CAAGCTAG\\_S8\\_L001 & MDX1\\_KO\\_D01\\_GT23.10881\\_GATTCTGC.CTCTCGTC\\_S9\\_L001 & MEF2C\\_CE\\_C07\\_GT23.13714\\_TGGATCGA.TATCGCAC\\_S158\\_L003 & RUNX1\\_PTC\\_C12\\_GT23.13728\\_AACGTTCC.AGTACTCC\\_S176\\_L003 & ⋯ & BMLHE40\\_CE\\_A06\\_GT24.00866\\_AGCTCGCT.GATTCTGC\\_S190\\_L007 & BMLHE40\\_KO\\_D01\\_GT24.00865\\_GATCTATC.AGCCTCAT\\_S189\\_L007 & MEIS1\\_WT\\_3\\_GT23.12158\\_TTGCCTAG.TAAGTGGT\\_S22\\_L001 & MDX1\\_KOLF2\\_2\\_GT23.10877\\_AATGCCTC.TGGATCGA\\_S3\\_L001 & MDX1\\_PTC\\_G10\\_GT23.10884\\_TAAGTGGT.GGCTTAAG\\_S34\\_L001 & MEF2C\\_WT3\\_GT23.13709\\_GGACTTGG.CGTCTGCG\\_S166\\_L003 & NC0A3\\_WT\\_2\\_GT24.01176\\_GCAGAATT.TGGCCGGT\\_S146\\_L005 & NC0A3\\_CE\\_G05\\_GT24.01170\\_TAATACAG.GTGAATAT\\_S130\\_L005 & MEF2C\\_PTC\\_B03\\_GT23.13717\\_TCTCTACT.GAACCGCG\\_S177\\_L003 & RUNX1\\_KO\\_G07\\_GT23.13724\\_CGGCGTGA.ACAGGCGC\\_S175\\_L003\\\\\n",
       "  & <dbl> & <dbl> & <dbl> & <dbl> & <dbl> & <dbl> & <dbl> & <dbl> & <dbl> & <dbl> & ⋯ & <dbl> & <dbl> & <dbl> & <dbl> & <dbl> & <dbl> & <dbl> & <dbl> & <dbl> & <dbl>\\\\\n",
       "\\hline\n",
       "\tENSG00000268674 &   0.000 &   0.000 &   0.000 &   0.000 &   0.000 &   0.000 &   0.00 &   0.000 &   0.000 &    0.00 & ⋯ &   0.000 &   0.000 &   0.00 &   0.000 &   0.000 &   0.000 &   0.000 &    0.000 &   0.000 &    0.00\\\\\n",
       "\tENSG00000271254 & 793.064 & 896.932 & 751.943 & 970.904 & 555.473 & 658.756 & 842.45 & 648.444 & 753.634 & 1307.49 & ⋯ & 820.668 & 774.844 & 665.28 & 765.082 & 763.869 & 655.266 & 863.372 & 1020.330 & 937.225 & 1079.16\\\\\n",
       "\tENSG00000275063 &   0.000 &   0.000 &   0.000 &   0.000 &   0.000 &   0.000 &   0.00 &   0.000 &   0.000 &    0.00 & ⋯ &   0.000 &   0.000 &   0.00 &   0.000 &   0.000 &   0.000 &   0.000 &    0.000 &   0.000 &    0.00\\\\\n",
       "\tENSG00000277856 &   0.000 &   0.000 &   0.000 &   0.000 &   0.000 &   0.000 &   0.00 &   0.000 &   0.000 &    0.00 & ⋯ &   0.000 &   0.000 &   0.00 &   0.000 &   0.000 &   0.000 &   0.000 &    0.000 &   0.000 &    0.00\\\\\n",
       "\tENSG00000276345 &   0.000 &   0.000 &   4.655 &   0.000 &   0.000 &   0.000 &   0.00 &   0.000 &   0.000 &    0.00 & ⋯ &   6.398 &   0.000 &   0.00 &   0.000 &   0.000 &   0.000 &   0.000 &    2.037 &   0.000 &    0.00\\\\\n",
       "\tENSG00000278633 &   0.000 &   0.000 &   0.000 &   0.000 &   0.000 &   1.000 &   0.00 &   0.000 &   0.000 &    0.00 & ⋯ &   0.000 &   0.000 &   0.00 &   0.000 &   0.000 &   0.000 &   0.000 &    0.000 &   0.000 &    0.00\\\\\n",
       "\\end{tabular}\n"
      ],
      "text/markdown": [
       "\n",
       "A data.frame: 6 × 82\n",
       "\n",
       "| <!--/--> | MEIS2_CE_A06_GT23.12174_TGCGAGAC.CAACAATG_S1_L001 &lt;dbl&gt; | NC0A3_KO_A12_GT24.01167_TTGGACTC.CTGCTTCC_S147_L005 &lt;dbl&gt; | BMLHE40_CE_H05_GT24.00868_TAAGGTCA.CTACGACA_S192_L007 &lt;dbl&gt; | NC0A3_WT_1_GT24.01175_AACGTTCC.AGTACTCC_S144_L005 &lt;dbl&gt; | MDX1_CE_F07_GT23.10885_CGGACAAC.AATCCGGA_S40_L001 &lt;dbl&gt; | MEIS1_KO_H03_GT23.12161_GTGTCGGA.GCGCAAGC_S25_L001 &lt;dbl&gt; | MDX1_KOLF2_1_GT23.10876_GGCATTCT.CAAGCTAG_S8_L001 &lt;dbl&gt; | MDX1_KO_D01_GT23.10881_GATTCTGC.CTCTCGTC_S9_L001 &lt;dbl&gt; | MEF2C_CE_C07_GT23.13714_TGGATCGA.TATCGCAC_S158_L003 &lt;dbl&gt; | RUNX1_PTC_C12_GT23.13728_AACGTTCC.AGTACTCC_S176_L003 &lt;dbl&gt; | ⋯ ⋯ | BMLHE40_CE_A06_GT24.00866_AGCTCGCT.GATTCTGC_S190_L007 &lt;dbl&gt; | BMLHE40_KO_D01_GT24.00865_GATCTATC.AGCCTCAT_S189_L007 &lt;dbl&gt; | MEIS1_WT_3_GT23.12158_TTGCCTAG.TAAGTGGT_S22_L001 &lt;dbl&gt; | MDX1_KOLF2_2_GT23.10877_AATGCCTC.TGGATCGA_S3_L001 &lt;dbl&gt; | MDX1_PTC_G10_GT23.10884_TAAGTGGT.GGCTTAAG_S34_L001 &lt;dbl&gt; | MEF2C_WT3_GT23.13709_GGACTTGG.CGTCTGCG_S166_L003 &lt;dbl&gt; | NC0A3_WT_2_GT24.01176_GCAGAATT.TGGCCGGT_S146_L005 &lt;dbl&gt; | NC0A3_CE_G05_GT24.01170_TAATACAG.GTGAATAT_S130_L005 &lt;dbl&gt; | MEF2C_PTC_B03_GT23.13717_TCTCTACT.GAACCGCG_S177_L003 &lt;dbl&gt; | RUNX1_KO_G07_GT23.13724_CGGCGTGA.ACAGGCGC_S175_L003 &lt;dbl&gt; |\n",
       "|---|---|---|---|---|---|---|---|---|---|---|---|---|---|---|---|---|---|---|---|---|---|\n",
       "| ENSG00000268674 |   0.000 |   0.000 |   0.000 |   0.000 |   0.000 |   0.000 |   0.00 |   0.000 |   0.000 |    0.00 | ⋯ |   0.000 |   0.000 |   0.00 |   0.000 |   0.000 |   0.000 |   0.000 |    0.000 |   0.000 |    0.00 |\n",
       "| ENSG00000271254 | 793.064 | 896.932 | 751.943 | 970.904 | 555.473 | 658.756 | 842.45 | 648.444 | 753.634 | 1307.49 | ⋯ | 820.668 | 774.844 | 665.28 | 765.082 | 763.869 | 655.266 | 863.372 | 1020.330 | 937.225 | 1079.16 |\n",
       "| ENSG00000275063 |   0.000 |   0.000 |   0.000 |   0.000 |   0.000 |   0.000 |   0.00 |   0.000 |   0.000 |    0.00 | ⋯ |   0.000 |   0.000 |   0.00 |   0.000 |   0.000 |   0.000 |   0.000 |    0.000 |   0.000 |    0.00 |\n",
       "| ENSG00000277856 |   0.000 |   0.000 |   0.000 |   0.000 |   0.000 |   0.000 |   0.00 |   0.000 |   0.000 |    0.00 | ⋯ |   0.000 |   0.000 |   0.00 |   0.000 |   0.000 |   0.000 |   0.000 |    0.000 |   0.000 |    0.00 |\n",
       "| ENSG00000276345 |   0.000 |   0.000 |   4.655 |   0.000 |   0.000 |   0.000 |   0.00 |   0.000 |   0.000 |    0.00 | ⋯ |   6.398 |   0.000 |   0.00 |   0.000 |   0.000 |   0.000 |   0.000 |    2.037 |   0.000 |    0.00 |\n",
       "| ENSG00000278633 |   0.000 |   0.000 |   0.000 |   0.000 |   0.000 |   1.000 |   0.00 |   0.000 |   0.000 |    0.00 | ⋯ |   0.000 |   0.000 |   0.00 |   0.000 |   0.000 |   0.000 |   0.000 |    0.000 |   0.000 |    0.00 |\n",
       "\n"
      ],
      "text/plain": [
       "                MEIS2_CE_A06_GT23.12174_TGCGAGAC.CAACAATG_S1_L001\n",
       "ENSG00000268674   0.000                                          \n",
       "ENSG00000271254 793.064                                          \n",
       "ENSG00000275063   0.000                                          \n",
       "ENSG00000277856   0.000                                          \n",
       "ENSG00000276345   0.000                                          \n",
       "ENSG00000278633   0.000                                          \n",
       "                NC0A3_KO_A12_GT24.01167_TTGGACTC.CTGCTTCC_S147_L005\n",
       "ENSG00000268674   0.000                                            \n",
       "ENSG00000271254 896.932                                            \n",
       "ENSG00000275063   0.000                                            \n",
       "ENSG00000277856   0.000                                            \n",
       "ENSG00000276345   0.000                                            \n",
       "ENSG00000278633   0.000                                            \n",
       "                BMLHE40_CE_H05_GT24.00868_TAAGGTCA.CTACGACA_S192_L007\n",
       "ENSG00000268674   0.000                                              \n",
       "ENSG00000271254 751.943                                              \n",
       "ENSG00000275063   0.000                                              \n",
       "ENSG00000277856   0.000                                              \n",
       "ENSG00000276345   4.655                                              \n",
       "ENSG00000278633   0.000                                              \n",
       "                NC0A3_WT_1_GT24.01175_AACGTTCC.AGTACTCC_S144_L005\n",
       "ENSG00000268674   0.000                                          \n",
       "ENSG00000271254 970.904                                          \n",
       "ENSG00000275063   0.000                                          \n",
       "ENSG00000277856   0.000                                          \n",
       "ENSG00000276345   0.000                                          \n",
       "ENSG00000278633   0.000                                          \n",
       "                MDX1_CE_F07_GT23.10885_CGGACAAC.AATCCGGA_S40_L001\n",
       "ENSG00000268674   0.000                                          \n",
       "ENSG00000271254 555.473                                          \n",
       "ENSG00000275063   0.000                                          \n",
       "ENSG00000277856   0.000                                          \n",
       "ENSG00000276345   0.000                                          \n",
       "ENSG00000278633   0.000                                          \n",
       "                MEIS1_KO_H03_GT23.12161_GTGTCGGA.GCGCAAGC_S25_L001\n",
       "ENSG00000268674   0.000                                           \n",
       "ENSG00000271254 658.756                                           \n",
       "ENSG00000275063   0.000                                           \n",
       "ENSG00000277856   0.000                                           \n",
       "ENSG00000276345   0.000                                           \n",
       "ENSG00000278633   1.000                                           \n",
       "                MDX1_KOLF2_1_GT23.10876_GGCATTCT.CAAGCTAG_S8_L001\n",
       "ENSG00000268674   0.00                                           \n",
       "ENSG00000271254 842.45                                           \n",
       "ENSG00000275063   0.00                                           \n",
       "ENSG00000277856   0.00                                           \n",
       "ENSG00000276345   0.00                                           \n",
       "ENSG00000278633   0.00                                           \n",
       "                MDX1_KO_D01_GT23.10881_GATTCTGC.CTCTCGTC_S9_L001\n",
       "ENSG00000268674   0.000                                         \n",
       "ENSG00000271254 648.444                                         \n",
       "ENSG00000275063   0.000                                         \n",
       "ENSG00000277856   0.000                                         \n",
       "ENSG00000276345   0.000                                         \n",
       "ENSG00000278633   0.000                                         \n",
       "                MEF2C_CE_C07_GT23.13714_TGGATCGA.TATCGCAC_S158_L003\n",
       "ENSG00000268674   0.000                                            \n",
       "ENSG00000271254 753.634                                            \n",
       "ENSG00000275063   0.000                                            \n",
       "ENSG00000277856   0.000                                            \n",
       "ENSG00000276345   0.000                                            \n",
       "ENSG00000278633   0.000                                            \n",
       "                RUNX1_PTC_C12_GT23.13728_AACGTTCC.AGTACTCC_S176_L003 ⋯\n",
       "ENSG00000268674    0.00                                              ⋯\n",
       "ENSG00000271254 1307.49                                              ⋯\n",
       "ENSG00000275063    0.00                                              ⋯\n",
       "ENSG00000277856    0.00                                              ⋯\n",
       "ENSG00000276345    0.00                                              ⋯\n",
       "ENSG00000278633    0.00                                              ⋯\n",
       "                BMLHE40_CE_A06_GT24.00866_AGCTCGCT.GATTCTGC_S190_L007\n",
       "ENSG00000268674   0.000                                              \n",
       "ENSG00000271254 820.668                                              \n",
       "ENSG00000275063   0.000                                              \n",
       "ENSG00000277856   0.000                                              \n",
       "ENSG00000276345   6.398                                              \n",
       "ENSG00000278633   0.000                                              \n",
       "                BMLHE40_KO_D01_GT24.00865_GATCTATC.AGCCTCAT_S189_L007\n",
       "ENSG00000268674   0.000                                              \n",
       "ENSG00000271254 774.844                                              \n",
       "ENSG00000275063   0.000                                              \n",
       "ENSG00000277856   0.000                                              \n",
       "ENSG00000276345   0.000                                              \n",
       "ENSG00000278633   0.000                                              \n",
       "                MEIS1_WT_3_GT23.12158_TTGCCTAG.TAAGTGGT_S22_L001\n",
       "ENSG00000268674   0.00                                          \n",
       "ENSG00000271254 665.28                                          \n",
       "ENSG00000275063   0.00                                          \n",
       "ENSG00000277856   0.00                                          \n",
       "ENSG00000276345   0.00                                          \n",
       "ENSG00000278633   0.00                                          \n",
       "                MDX1_KOLF2_2_GT23.10877_AATGCCTC.TGGATCGA_S3_L001\n",
       "ENSG00000268674   0.000                                          \n",
       "ENSG00000271254 765.082                                          \n",
       "ENSG00000275063   0.000                                          \n",
       "ENSG00000277856   0.000                                          \n",
       "ENSG00000276345   0.000                                          \n",
       "ENSG00000278633   0.000                                          \n",
       "                MDX1_PTC_G10_GT23.10884_TAAGTGGT.GGCTTAAG_S34_L001\n",
       "ENSG00000268674   0.000                                           \n",
       "ENSG00000271254 763.869                                           \n",
       "ENSG00000275063   0.000                                           \n",
       "ENSG00000277856   0.000                                           \n",
       "ENSG00000276345   0.000                                           \n",
       "ENSG00000278633   0.000                                           \n",
       "                MEF2C_WT3_GT23.13709_GGACTTGG.CGTCTGCG_S166_L003\n",
       "ENSG00000268674   0.000                                         \n",
       "ENSG00000271254 655.266                                         \n",
       "ENSG00000275063   0.000                                         \n",
       "ENSG00000277856   0.000                                         \n",
       "ENSG00000276345   0.000                                         \n",
       "ENSG00000278633   0.000                                         \n",
       "                NC0A3_WT_2_GT24.01176_GCAGAATT.TGGCCGGT_S146_L005\n",
       "ENSG00000268674   0.000                                          \n",
       "ENSG00000271254 863.372                                          \n",
       "ENSG00000275063   0.000                                          \n",
       "ENSG00000277856   0.000                                          \n",
       "ENSG00000276345   0.000                                          \n",
       "ENSG00000278633   0.000                                          \n",
       "                NC0A3_CE_G05_GT24.01170_TAATACAG.GTGAATAT_S130_L005\n",
       "ENSG00000268674    0.000                                           \n",
       "ENSG00000271254 1020.330                                           \n",
       "ENSG00000275063    0.000                                           \n",
       "ENSG00000277856    0.000                                           \n",
       "ENSG00000276345    2.037                                           \n",
       "ENSG00000278633    0.000                                           \n",
       "                MEF2C_PTC_B03_GT23.13717_TCTCTACT.GAACCGCG_S177_L003\n",
       "ENSG00000268674   0.000                                             \n",
       "ENSG00000271254 937.225                                             \n",
       "ENSG00000275063   0.000                                             \n",
       "ENSG00000277856   0.000                                             \n",
       "ENSG00000276345   0.000                                             \n",
       "ENSG00000278633   0.000                                             \n",
       "                RUNX1_KO_G07_GT23.13724_CGGCGTGA.ACAGGCGC_S175_L003\n",
       "ENSG00000268674    0.00                                            \n",
       "ENSG00000271254 1079.16                                            \n",
       "ENSG00000275063    0.00                                            \n",
       "ENSG00000277856    0.00                                            \n",
       "ENSG00000276345    0.00                                            \n",
       "ENSG00000278633    0.00                                            "
      ]
     },
     "metadata": {},
     "output_type": "display_data"
    },
    {
     "data": {
      "text/html": [
       "<style>\n",
       ".list-inline {list-style: none; margin:0; padding: 0}\n",
       ".list-inline>li {display: inline-block}\n",
       ".list-inline>li:not(:last-child)::after {content: \"\\00b7\"; padding: 0 .5ex}\n",
       "</style>\n",
       "<ol class=list-inline><li>38592</li><li>82</li></ol>\n"
      ],
      "text/latex": [
       "\\begin{enumerate*}\n",
       "\\item 38592\n",
       "\\item 82\n",
       "\\end{enumerate*}\n"
      ],
      "text/markdown": [
       "1. 38592\n",
       "2. 82\n",
       "\n",
       "\n"
      ],
      "text/plain": [
       "[1] 38592    82"
      ]
     },
     "metadata": {},
     "output_type": "display_data"
    }
   ],
   "source": [
    "######## Read in raw count file ########\n",
    "raw_cnts = read.csv(\"GSE288289_study2_genesRawCounts.csv\", header=TRUE, sep=\"\\t\", row.names=1)\n",
    "head(raw_cnts)\n",
    "dim(raw_cnts)"
   ]
  },
  {
   "cell_type": "code",
   "execution_count": 6,
   "id": "914c0657-7566-46e6-a9f9-a9fbbd268c29",
   "metadata": {},
   "outputs": [
    {
     "data": {
      "text/html": [
       "<table class=\"dataframe\">\n",
       "<caption>A data.frame: 6 × 5</caption>\n",
       "<thead>\n",
       "\t<tr><th></th><th scope=col>GEO.Accession</th><th scope=col>Sample</th><th scope=col>Type</th><th scope=col>Gene</th><th scope=col>Scheme</th></tr>\n",
       "\t<tr><th></th><th scope=col>&lt;chr&gt;</th><th scope=col>&lt;chr&gt;</th><th scope=col>&lt;chr&gt;</th><th scope=col>&lt;chr&gt;</th><th scope=col>&lt;chr&gt;</th></tr>\n",
       "</thead>\n",
       "<tbody>\n",
       "\t<tr><th scope=row>1</th><td>GSM8763708</td><td> MEIS1_KO_E03_GT23-12159_CCATTCGA-CGGACAAC_S26</td><td>KO</td><td>MEIS1</td><td>mesenchymal cell formation</td></tr>\n",
       "\t<tr><th scope=row>2</th><td>GSM8763709</td><td> MEIS1_KO_F04_GT23-12160_ACACTAAG-ATATGGAT_S11</td><td>KO</td><td>MEIS1</td><td>mesenchymal cell formation</td></tr>\n",
       "\t<tr><th scope=row>3</th><td>GSM8763710</td><td> MEIS1_KO_H03_GT23-12161_GTGTCGGA-GCGCAAGC_S25</td><td>KO</td><td>MEIS1</td><td>mesenchymal cell formation</td></tr>\n",
       "\t<tr><th scope=row>4</th><td>GSM8763711</td><td> MEIS1_CE_H08_GT23-12162_TTCCTGTT-AAGATACT_S12</td><td>CE</td><td>MEIS1</td><td>mesenchymal cell formation</td></tr>\n",
       "\t<tr><th scope=row>5</th><td>GSM8763712</td><td> MEIS1_CE_C07_GT23-12163_CCTTCACC-GGAGCGTC_S30</td><td>CE</td><td>MEIS1</td><td>mesenchymal cell formation</td></tr>\n",
       "\t<tr><th scope=row>6</th><td>GSM8763713</td><td> MEIS1_CE_E06_GT23-12164_GCCACAGG-ATGGCATG_S2 </td><td>CE</td><td>MEIS1</td><td>mesenchymal cell formation</td></tr>\n",
       "</tbody>\n",
       "</table>\n"
      ],
      "text/latex": [
       "A data.frame: 6 × 5\n",
       "\\begin{tabular}{r|lllll}\n",
       "  & GEO.Accession & Sample & Type & Gene & Scheme\\\\\n",
       "  & <chr> & <chr> & <chr> & <chr> & <chr>\\\\\n",
       "\\hline\n",
       "\t1 & GSM8763708 &  MEIS1\\_KO\\_E03\\_GT23-12159\\_CCATTCGA-CGGACAAC\\_S26 & KO & MEIS1 & mesenchymal cell formation\\\\\n",
       "\t2 & GSM8763709 &  MEIS1\\_KO\\_F04\\_GT23-12160\\_ACACTAAG-ATATGGAT\\_S11 & KO & MEIS1 & mesenchymal cell formation\\\\\n",
       "\t3 & GSM8763710 &  MEIS1\\_KO\\_H03\\_GT23-12161\\_GTGTCGGA-GCGCAAGC\\_S25 & KO & MEIS1 & mesenchymal cell formation\\\\\n",
       "\t4 & GSM8763711 &  MEIS1\\_CE\\_H08\\_GT23-12162\\_TTCCTGTT-AAGATACT\\_S12 & CE & MEIS1 & mesenchymal cell formation\\\\\n",
       "\t5 & GSM8763712 &  MEIS1\\_CE\\_C07\\_GT23-12163\\_CCTTCACC-GGAGCGTC\\_S30 & CE & MEIS1 & mesenchymal cell formation\\\\\n",
       "\t6 & GSM8763713 &  MEIS1\\_CE\\_E06\\_GT23-12164\\_GCCACAGG-ATGGCATG\\_S2  & CE & MEIS1 & mesenchymal cell formation\\\\\n",
       "\\end{tabular}\n"
      ],
      "text/markdown": [
       "\n",
       "A data.frame: 6 × 5\n",
       "\n",
       "| <!--/--> | GEO.Accession &lt;chr&gt; | Sample &lt;chr&gt; | Type &lt;chr&gt; | Gene &lt;chr&gt; | Scheme &lt;chr&gt; |\n",
       "|---|---|---|---|---|---|\n",
       "| 1 | GSM8763708 |  MEIS1_KO_E03_GT23-12159_CCATTCGA-CGGACAAC_S26 | KO | MEIS1 | mesenchymal cell formation |\n",
       "| 2 | GSM8763709 |  MEIS1_KO_F04_GT23-12160_ACACTAAG-ATATGGAT_S11 | KO | MEIS1 | mesenchymal cell formation |\n",
       "| 3 | GSM8763710 |  MEIS1_KO_H03_GT23-12161_GTGTCGGA-GCGCAAGC_S25 | KO | MEIS1 | mesenchymal cell formation |\n",
       "| 4 | GSM8763711 |  MEIS1_CE_H08_GT23-12162_TTCCTGTT-AAGATACT_S12 | CE | MEIS1 | mesenchymal cell formation |\n",
       "| 5 | GSM8763712 |  MEIS1_CE_C07_GT23-12163_CCTTCACC-GGAGCGTC_S30 | CE | MEIS1 | mesenchymal cell formation |\n",
       "| 6 | GSM8763713 |  MEIS1_CE_E06_GT23-12164_GCCACAGG-ATGGCATG_S2  | CE | MEIS1 | mesenchymal cell formation |\n",
       "\n"
      ],
      "text/plain": [
       "  GEO.Accession Sample                                         Type Gene \n",
       "1 GSM8763708     MEIS1_KO_E03_GT23-12159_CCATTCGA-CGGACAAC_S26 KO   MEIS1\n",
       "2 GSM8763709     MEIS1_KO_F04_GT23-12160_ACACTAAG-ATATGGAT_S11 KO   MEIS1\n",
       "3 GSM8763710     MEIS1_KO_H03_GT23-12161_GTGTCGGA-GCGCAAGC_S25 KO   MEIS1\n",
       "4 GSM8763711     MEIS1_CE_H08_GT23-12162_TTCCTGTT-AAGATACT_S12 CE   MEIS1\n",
       "5 GSM8763712     MEIS1_CE_C07_GT23-12163_CCTTCACC-GGAGCGTC_S30 CE   MEIS1\n",
       "6 GSM8763713     MEIS1_CE_E06_GT23-12164_GCCACAGG-ATGGCATG_S2  CE   MEIS1\n",
       "  Scheme                    \n",
       "1 mesenchymal cell formation\n",
       "2 mesenchymal cell formation\n",
       "3 mesenchymal cell formation\n",
       "4 mesenchymal cell formation\n",
       "5 mesenchymal cell formation\n",
       "6 mesenchymal cell formation"
      ]
     },
     "metadata": {},
     "output_type": "display_data"
    },
    {
     "data": {
      "text/html": [
       "<style>\n",
       ".list-inline {list-style: none; margin:0; padding: 0}\n",
       ".list-inline>li {display: inline-block}\n",
       ".list-inline>li:not(:last-child)::after {content: \"\\00b7\"; padding: 0 .5ex}\n",
       "</style>\n",
       "<ol class=list-inline><li>82</li><li>5</li></ol>\n"
      ],
      "text/latex": [
       "\\begin{enumerate*}\n",
       "\\item 82\n",
       "\\item 5\n",
       "\\end{enumerate*}\n"
      ],
      "text/markdown": [
       "1. 82\n",
       "2. 5\n",
       "\n",
       "\n"
      ],
      "text/plain": [
       "[1] 82  5"
      ]
     },
     "metadata": {},
     "output_type": "display_data"
    }
   ],
   "source": [
    "######## Read in metadata file ########\n",
    "meta_data = read.csv(\"metadata_study2.csv\", header=TRUE, stringsAsFactors=FALSE)\n",
    "head(meta_data)\n",
    "dim(meta_data)"
   ]
  },
  {
   "cell_type": "markdown",
   "id": "c2fe8e96-1e80-4bc1-99eb-1ad37ab7c7a9",
   "metadata": {},
   "source": [
    "## Filter out samples with less than three replicates \n",
    " [\"At least 3 replicates are required for flagging, as it is difficult to judge which sample might be an outlier with only 2 replicates.\"](https://bioconductor.org/packages/3.21/bioc/vignettes/DESeq2/inst/doc/DESeq2.html#approach-to-count-outliers)"
   ]
  },
  {
   "cell_type": "code",
   "execution_count": null,
   "id": "ca87f1e9-02aa-4fad-97bc-9b3fec0d370d",
   "metadata": {},
   "outputs": [],
   "source": []
  },
  {
   "cell_type": "code",
   "execution_count": 5,
   "id": "a7622797-58e1-41e0-bba4-bc2eb83f097f",
   "metadata": {},
   "outputs": [
    {
     "data": {
      "text/plain": [
       "\n",
       "TRUE \n",
       "  82 "
      ]
     },
     "metadata": {},
     "output_type": "display_data"
    },
    {
     "data": {
      "text/html": [
       "<style>\n",
       ".list-inline {list-style: none; margin:0; padding: 0}\n",
       ".list-inline>li {display: inline-block}\n",
       ".list-inline>li:not(:last-child)::after {content: \"\\00b7\"; padding: 0 .5ex}\n",
       "</style>\n",
       "<ol class=list-inline><li>38592</li><li>82</li></ol>\n"
      ],
      "text/latex": [
       "\\begin{enumerate*}\n",
       "\\item 38592\n",
       "\\item 82\n",
       "\\end{enumerate*}\n"
      ],
      "text/markdown": [
       "1. 38592\n",
       "2. 82\n",
       "\n",
       "\n"
      ],
      "text/plain": [
       "[1] 38592    82"
      ]
     },
     "metadata": {},
     "output_type": "display_data"
    },
    {
     "data": {
      "text/html": [
       "<style>\n",
       ".list-inline {list-style: none; margin:0; padding: 0}\n",
       ".list-inline>li {display: inline-block}\n",
       ".list-inline>li:not(:last-child)::after {content: \"\\00b7\"; padding: 0 .5ex}\n",
       "</style>\n",
       "<ol class=list-inline><li>82</li><li>5</li></ol>\n"
      ],
      "text/latex": [
       "\\begin{enumerate*}\n",
       "\\item 82\n",
       "\\item 5\n",
       "\\end{enumerate*}\n"
      ],
      "text/markdown": [
       "1. 82\n",
       "2. 5\n",
       "\n",
       "\n"
      ],
      "text/plain": [
       "[1] 82  5"
      ]
     },
     "metadata": {},
     "output_type": "display_data"
    },
    {
     "data": {
      "text/html": [
       "<table class=\"dataframe\">\n",
       "<caption>A data.frame: 6 × 82</caption>\n",
       "<thead>\n",
       "\t<tr><th></th><th scope=col>MEIS1_KO_E03_GT23-12159_CCATTCGA-CGGACAAC_S26</th><th scope=col>MEIS1_KO_F04_GT23-12160_ACACTAAG-ATATGGAT_S11</th><th scope=col>MEIS1_KO_H03_GT23-12161_GTGTCGGA-GCGCAAGC_S25</th><th scope=col>MEIS1_CE_H08_GT23-12162_TTCCTGTT-AAGATACT_S12</th><th scope=col>MEIS1_CE_C07_GT23-12163_CCTTCACC-GGAGCGTC_S30</th><th scope=col>MEIS1_CE_E06_GT23-12164_GCCACAGG-ATGGCATG_S2</th><th scope=col>MEIS1_PTC_F12_GT23-12165_ATTGTGAA-GCAATGCA_S8</th><th scope=col>MEIS1_PTC_G9_GT23-12166_ACTCGTGT-GTTCCAAT_S4</th><th scope=col>MEIS1_PTC_G11_GT23-12167_GTCTACAC-ACCTTGGC_S31</th><th scope=col>MEIS1_WT_1__GT23-12156_CGGAACTG-TCGTAGTG_S62</th><th scope=col>⋯</th><th scope=col>BMLHE40_KO_D01_GT24-00865_GATCTATC-AGCCTCAT_S189</th><th scope=col>BMLHE40_CE_A06_GT24-00866_AGCTCGCT-GATTCTGC_S190</th><th scope=col>BMLHE40_CE_B06_GT24-00867_CGGAACTG-TCGTAGTG_S194</th><th scope=col>BMLHE40_CE_H05_GT24-00868_TAAGGTCA-CTACGACA_S192</th><th scope=col>BMLHE40_PTC_B12_GT24-00869_TTGCCTAG-TAAGTGGT_S196</th><th scope=col>BMLHE40_PTC_C11_GT24-00870_CCATTCGA-CGGACAAC_S197</th><th scope=col>BMLHE40_PTC_D09_GT24-00871_ACACTAAG-ATATGGAT_S195</th><th scope=col>BMLHE40_WT_1_GT24-00872_GTGTCGGA-GCGCAAGC_S193</th><th scope=col>BMLHE40_WT_2_GT24-00873_TTCCTGTT-AAGATACT_S191</th><th scope=col>BMLHE40_WT_3_GT24-00874_CCTTCACC-GGAGCGTC_S188</th></tr>\n",
       "\t<tr><th></th><th scope=col>&lt;dbl&gt;</th><th scope=col>&lt;dbl&gt;</th><th scope=col>&lt;dbl&gt;</th><th scope=col>&lt;dbl&gt;</th><th scope=col>&lt;dbl&gt;</th><th scope=col>&lt;dbl&gt;</th><th scope=col>&lt;dbl&gt;</th><th scope=col>&lt;dbl&gt;</th><th scope=col>&lt;dbl&gt;</th><th scope=col>&lt;dbl&gt;</th><th scope=col>⋯</th><th scope=col>&lt;dbl&gt;</th><th scope=col>&lt;dbl&gt;</th><th scope=col>&lt;dbl&gt;</th><th scope=col>&lt;dbl&gt;</th><th scope=col>&lt;dbl&gt;</th><th scope=col>&lt;dbl&gt;</th><th scope=col>&lt;dbl&gt;</th><th scope=col>&lt;dbl&gt;</th><th scope=col>&lt;dbl&gt;</th><th scope=col>&lt;dbl&gt;</th></tr>\n",
       "</thead>\n",
       "<tbody>\n",
       "\t<tr><th scope=row>ENSG00000268674</th><td>  0.000</td><td>  0.000</td><td>  0.000</td><td>  0.000</td><td>  0.000</td><td>  0.000</td><td>  0.000</td><td>  0.000</td><td>  0.000</td><td>  0.000</td><td>⋯</td><td>  0.000</td><td>  0.000</td><td>  0.000</td><td>  0.000</td><td>  0.000</td><td>  0.000</td><td>  0.000</td><td>   0.00</td><td>   0.00</td><td>   0.00</td></tr>\n",
       "\t<tr><th scope=row>ENSG00000271254</th><td>865.387</td><td>675.639</td><td>658.756</td><td>802.452</td><td>594.434</td><td>762.975</td><td>855.224</td><td>818.537</td><td>815.159</td><td>916.426</td><td>⋯</td><td>774.844</td><td>820.668</td><td>868.616</td><td>751.943</td><td>874.940</td><td>616.084</td><td>996.554</td><td>1037.35</td><td>1315.03</td><td>1268.56</td></tr>\n",
       "\t<tr><th scope=row>ENSG00000275063</th><td>  0.000</td><td>  0.000</td><td>  0.000</td><td>  0.000</td><td>  0.000</td><td>  0.000</td><td>  0.000</td><td>  0.000</td><td>  0.000</td><td>  0.000</td><td>⋯</td><td>  0.000</td><td>  0.000</td><td>  0.000</td><td>  0.000</td><td>  0.000</td><td>  0.000</td><td>  0.000</td><td>   0.00</td><td>   0.00</td><td>   0.00</td></tr>\n",
       "\t<tr><th scope=row>ENSG00000277856</th><td>  0.000</td><td>  0.000</td><td>  0.000</td><td>  0.000</td><td>  0.000</td><td>  0.000</td><td>  0.000</td><td>  0.000</td><td>  0.000</td><td>  0.000</td><td>⋯</td><td>  0.000</td><td>  0.000</td><td>  0.000</td><td>  0.000</td><td>  0.000</td><td>  0.000</td><td>  0.000</td><td>   0.00</td><td>   0.00</td><td>   0.00</td></tr>\n",
       "\t<tr><th scope=row>ENSG00000276345</th><td>  0.000</td><td>  0.000</td><td>  0.000</td><td>  0.000</td><td>  0.000</td><td>  0.000</td><td>  0.000</td><td>  0.000</td><td>  0.000</td><td>  0.000</td><td>⋯</td><td>  0.000</td><td>  6.398</td><td>  0.000</td><td>  4.655</td><td>  2.387</td><td>  2.094</td><td>  2.780</td><td>   0.00</td><td>   0.00</td><td>   0.00</td></tr>\n",
       "\t<tr><th scope=row>ENSG00000278633</th><td>  0.000</td><td>  0.000</td><td>  1.000</td><td>  0.000</td><td>  0.000</td><td>  0.000</td><td>  0.000</td><td>  0.000</td><td>  0.000</td><td>  0.000</td><td>⋯</td><td>  0.000</td><td>  0.000</td><td>  0.000</td><td>  0.000</td><td>  0.000</td><td>  0.000</td><td>  0.000</td><td>   0.00</td><td>   0.00</td><td>   0.00</td></tr>\n",
       "</tbody>\n",
       "</table>\n"
      ],
      "text/latex": [
       "A data.frame: 6 × 82\n",
       "\\begin{tabular}{r|lllllllllllllllllllll}\n",
       "  & MEIS1\\_KO\\_E03\\_GT23-12159\\_CCATTCGA-CGGACAAC\\_S26 & MEIS1\\_KO\\_F04\\_GT23-12160\\_ACACTAAG-ATATGGAT\\_S11 & MEIS1\\_KO\\_H03\\_GT23-12161\\_GTGTCGGA-GCGCAAGC\\_S25 & MEIS1\\_CE\\_H08\\_GT23-12162\\_TTCCTGTT-AAGATACT\\_S12 & MEIS1\\_CE\\_C07\\_GT23-12163\\_CCTTCACC-GGAGCGTC\\_S30 & MEIS1\\_CE\\_E06\\_GT23-12164\\_GCCACAGG-ATGGCATG\\_S2 & MEIS1\\_PTC\\_F12\\_GT23-12165\\_ATTGTGAA-GCAATGCA\\_S8 & MEIS1\\_PTC\\_G9\\_GT23-12166\\_ACTCGTGT-GTTCCAAT\\_S4 & MEIS1\\_PTC\\_G11\\_GT23-12167\\_GTCTACAC-ACCTTGGC\\_S31 & MEIS1\\_WT\\_1\\_\\_GT23-12156\\_CGGAACTG-TCGTAGTG\\_S62 & ⋯ & BMLHE40\\_KO\\_D01\\_GT24-00865\\_GATCTATC-AGCCTCAT\\_S189 & BMLHE40\\_CE\\_A06\\_GT24-00866\\_AGCTCGCT-GATTCTGC\\_S190 & BMLHE40\\_CE\\_B06\\_GT24-00867\\_CGGAACTG-TCGTAGTG\\_S194 & BMLHE40\\_CE\\_H05\\_GT24-00868\\_TAAGGTCA-CTACGACA\\_S192 & BMLHE40\\_PTC\\_B12\\_GT24-00869\\_TTGCCTAG-TAAGTGGT\\_S196 & BMLHE40\\_PTC\\_C11\\_GT24-00870\\_CCATTCGA-CGGACAAC\\_S197 & BMLHE40\\_PTC\\_D09\\_GT24-00871\\_ACACTAAG-ATATGGAT\\_S195 & BMLHE40\\_WT\\_1\\_GT24-00872\\_GTGTCGGA-GCGCAAGC\\_S193 & BMLHE40\\_WT\\_2\\_GT24-00873\\_TTCCTGTT-AAGATACT\\_S191 & BMLHE40\\_WT\\_3\\_GT24-00874\\_CCTTCACC-GGAGCGTC\\_S188\\\\\n",
       "  & <dbl> & <dbl> & <dbl> & <dbl> & <dbl> & <dbl> & <dbl> & <dbl> & <dbl> & <dbl> & ⋯ & <dbl> & <dbl> & <dbl> & <dbl> & <dbl> & <dbl> & <dbl> & <dbl> & <dbl> & <dbl>\\\\\n",
       "\\hline\n",
       "\tENSG00000268674 &   0.000 &   0.000 &   0.000 &   0.000 &   0.000 &   0.000 &   0.000 &   0.000 &   0.000 &   0.000 & ⋯ &   0.000 &   0.000 &   0.000 &   0.000 &   0.000 &   0.000 &   0.000 &    0.00 &    0.00 &    0.00\\\\\n",
       "\tENSG00000271254 & 865.387 & 675.639 & 658.756 & 802.452 & 594.434 & 762.975 & 855.224 & 818.537 & 815.159 & 916.426 & ⋯ & 774.844 & 820.668 & 868.616 & 751.943 & 874.940 & 616.084 & 996.554 & 1037.35 & 1315.03 & 1268.56\\\\\n",
       "\tENSG00000275063 &   0.000 &   0.000 &   0.000 &   0.000 &   0.000 &   0.000 &   0.000 &   0.000 &   0.000 &   0.000 & ⋯ &   0.000 &   0.000 &   0.000 &   0.000 &   0.000 &   0.000 &   0.000 &    0.00 &    0.00 &    0.00\\\\\n",
       "\tENSG00000277856 &   0.000 &   0.000 &   0.000 &   0.000 &   0.000 &   0.000 &   0.000 &   0.000 &   0.000 &   0.000 & ⋯ &   0.000 &   0.000 &   0.000 &   0.000 &   0.000 &   0.000 &   0.000 &    0.00 &    0.00 &    0.00\\\\\n",
       "\tENSG00000276345 &   0.000 &   0.000 &   0.000 &   0.000 &   0.000 &   0.000 &   0.000 &   0.000 &   0.000 &   0.000 & ⋯ &   0.000 &   6.398 &   0.000 &   4.655 &   2.387 &   2.094 &   2.780 &    0.00 &    0.00 &    0.00\\\\\n",
       "\tENSG00000278633 &   0.000 &   0.000 &   1.000 &   0.000 &   0.000 &   0.000 &   0.000 &   0.000 &   0.000 &   0.000 & ⋯ &   0.000 &   0.000 &   0.000 &   0.000 &   0.000 &   0.000 &   0.000 &    0.00 &    0.00 &    0.00\\\\\n",
       "\\end{tabular}\n"
      ],
      "text/markdown": [
       "\n",
       "A data.frame: 6 × 82\n",
       "\n",
       "| <!--/--> | MEIS1_KO_E03_GT23-12159_CCATTCGA-CGGACAAC_S26 &lt;dbl&gt; | MEIS1_KO_F04_GT23-12160_ACACTAAG-ATATGGAT_S11 &lt;dbl&gt; | MEIS1_KO_H03_GT23-12161_GTGTCGGA-GCGCAAGC_S25 &lt;dbl&gt; | MEIS1_CE_H08_GT23-12162_TTCCTGTT-AAGATACT_S12 &lt;dbl&gt; | MEIS1_CE_C07_GT23-12163_CCTTCACC-GGAGCGTC_S30 &lt;dbl&gt; | MEIS1_CE_E06_GT23-12164_GCCACAGG-ATGGCATG_S2 &lt;dbl&gt; | MEIS1_PTC_F12_GT23-12165_ATTGTGAA-GCAATGCA_S8 &lt;dbl&gt; | MEIS1_PTC_G9_GT23-12166_ACTCGTGT-GTTCCAAT_S4 &lt;dbl&gt; | MEIS1_PTC_G11_GT23-12167_GTCTACAC-ACCTTGGC_S31 &lt;dbl&gt; | MEIS1_WT_1__GT23-12156_CGGAACTG-TCGTAGTG_S62 &lt;dbl&gt; | ⋯ ⋯ | BMLHE40_KO_D01_GT24-00865_GATCTATC-AGCCTCAT_S189 &lt;dbl&gt; | BMLHE40_CE_A06_GT24-00866_AGCTCGCT-GATTCTGC_S190 &lt;dbl&gt; | BMLHE40_CE_B06_GT24-00867_CGGAACTG-TCGTAGTG_S194 &lt;dbl&gt; | BMLHE40_CE_H05_GT24-00868_TAAGGTCA-CTACGACA_S192 &lt;dbl&gt; | BMLHE40_PTC_B12_GT24-00869_TTGCCTAG-TAAGTGGT_S196 &lt;dbl&gt; | BMLHE40_PTC_C11_GT24-00870_CCATTCGA-CGGACAAC_S197 &lt;dbl&gt; | BMLHE40_PTC_D09_GT24-00871_ACACTAAG-ATATGGAT_S195 &lt;dbl&gt; | BMLHE40_WT_1_GT24-00872_GTGTCGGA-GCGCAAGC_S193 &lt;dbl&gt; | BMLHE40_WT_2_GT24-00873_TTCCTGTT-AAGATACT_S191 &lt;dbl&gt; | BMLHE40_WT_3_GT24-00874_CCTTCACC-GGAGCGTC_S188 &lt;dbl&gt; |\n",
       "|---|---|---|---|---|---|---|---|---|---|---|---|---|---|---|---|---|---|---|---|---|---|\n",
       "| ENSG00000268674 |   0.000 |   0.000 |   0.000 |   0.000 |   0.000 |   0.000 |   0.000 |   0.000 |   0.000 |   0.000 | ⋯ |   0.000 |   0.000 |   0.000 |   0.000 |   0.000 |   0.000 |   0.000 |    0.00 |    0.00 |    0.00 |\n",
       "| ENSG00000271254 | 865.387 | 675.639 | 658.756 | 802.452 | 594.434 | 762.975 | 855.224 | 818.537 | 815.159 | 916.426 | ⋯ | 774.844 | 820.668 | 868.616 | 751.943 | 874.940 | 616.084 | 996.554 | 1037.35 | 1315.03 | 1268.56 |\n",
       "| ENSG00000275063 |   0.000 |   0.000 |   0.000 |   0.000 |   0.000 |   0.000 |   0.000 |   0.000 |   0.000 |   0.000 | ⋯ |   0.000 |   0.000 |   0.000 |   0.000 |   0.000 |   0.000 |   0.000 |    0.00 |    0.00 |    0.00 |\n",
       "| ENSG00000277856 |   0.000 |   0.000 |   0.000 |   0.000 |   0.000 |   0.000 |   0.000 |   0.000 |   0.000 |   0.000 | ⋯ |   0.000 |   0.000 |   0.000 |   0.000 |   0.000 |   0.000 |   0.000 |    0.00 |    0.00 |    0.00 |\n",
       "| ENSG00000276345 |   0.000 |   0.000 |   0.000 |   0.000 |   0.000 |   0.000 |   0.000 |   0.000 |   0.000 |   0.000 | ⋯ |   0.000 |   6.398 |   0.000 |   4.655 |   2.387 |   2.094 |   2.780 |    0.00 |    0.00 |    0.00 |\n",
       "| ENSG00000278633 |   0.000 |   0.000 |   1.000 |   0.000 |   0.000 |   0.000 |   0.000 |   0.000 |   0.000 |   0.000 | ⋯ |   0.000 |   0.000 |   0.000 |   0.000 |   0.000 |   0.000 |   0.000 |    0.00 |    0.00 |    0.00 |\n",
       "\n"
      ],
      "text/plain": [
       "                MEIS1_KO_E03_GT23-12159_CCATTCGA-CGGACAAC_S26\n",
       "ENSG00000268674   0.000                                      \n",
       "ENSG00000271254 865.387                                      \n",
       "ENSG00000275063   0.000                                      \n",
       "ENSG00000277856   0.000                                      \n",
       "ENSG00000276345   0.000                                      \n",
       "ENSG00000278633   0.000                                      \n",
       "                MEIS1_KO_F04_GT23-12160_ACACTAAG-ATATGGAT_S11\n",
       "ENSG00000268674   0.000                                      \n",
       "ENSG00000271254 675.639                                      \n",
       "ENSG00000275063   0.000                                      \n",
       "ENSG00000277856   0.000                                      \n",
       "ENSG00000276345   0.000                                      \n",
       "ENSG00000278633   0.000                                      \n",
       "                MEIS1_KO_H03_GT23-12161_GTGTCGGA-GCGCAAGC_S25\n",
       "ENSG00000268674   0.000                                      \n",
       "ENSG00000271254 658.756                                      \n",
       "ENSG00000275063   0.000                                      \n",
       "ENSG00000277856   0.000                                      \n",
       "ENSG00000276345   0.000                                      \n",
       "ENSG00000278633   1.000                                      \n",
       "                MEIS1_CE_H08_GT23-12162_TTCCTGTT-AAGATACT_S12\n",
       "ENSG00000268674   0.000                                      \n",
       "ENSG00000271254 802.452                                      \n",
       "ENSG00000275063   0.000                                      \n",
       "ENSG00000277856   0.000                                      \n",
       "ENSG00000276345   0.000                                      \n",
       "ENSG00000278633   0.000                                      \n",
       "                MEIS1_CE_C07_GT23-12163_CCTTCACC-GGAGCGTC_S30\n",
       "ENSG00000268674   0.000                                      \n",
       "ENSG00000271254 594.434                                      \n",
       "ENSG00000275063   0.000                                      \n",
       "ENSG00000277856   0.000                                      \n",
       "ENSG00000276345   0.000                                      \n",
       "ENSG00000278633   0.000                                      \n",
       "                MEIS1_CE_E06_GT23-12164_GCCACAGG-ATGGCATG_S2\n",
       "ENSG00000268674   0.000                                     \n",
       "ENSG00000271254 762.975                                     \n",
       "ENSG00000275063   0.000                                     \n",
       "ENSG00000277856   0.000                                     \n",
       "ENSG00000276345   0.000                                     \n",
       "ENSG00000278633   0.000                                     \n",
       "                MEIS1_PTC_F12_GT23-12165_ATTGTGAA-GCAATGCA_S8\n",
       "ENSG00000268674   0.000                                      \n",
       "ENSG00000271254 855.224                                      \n",
       "ENSG00000275063   0.000                                      \n",
       "ENSG00000277856   0.000                                      \n",
       "ENSG00000276345   0.000                                      \n",
       "ENSG00000278633   0.000                                      \n",
       "                MEIS1_PTC_G9_GT23-12166_ACTCGTGT-GTTCCAAT_S4\n",
       "ENSG00000268674   0.000                                     \n",
       "ENSG00000271254 818.537                                     \n",
       "ENSG00000275063   0.000                                     \n",
       "ENSG00000277856   0.000                                     \n",
       "ENSG00000276345   0.000                                     \n",
       "ENSG00000278633   0.000                                     \n",
       "                MEIS1_PTC_G11_GT23-12167_GTCTACAC-ACCTTGGC_S31\n",
       "ENSG00000268674   0.000                                       \n",
       "ENSG00000271254 815.159                                       \n",
       "ENSG00000275063   0.000                                       \n",
       "ENSG00000277856   0.000                                       \n",
       "ENSG00000276345   0.000                                       \n",
       "ENSG00000278633   0.000                                       \n",
       "                MEIS1_WT_1__GT23-12156_CGGAACTG-TCGTAGTG_S62 ⋯\n",
       "ENSG00000268674   0.000                                      ⋯\n",
       "ENSG00000271254 916.426                                      ⋯\n",
       "ENSG00000275063   0.000                                      ⋯\n",
       "ENSG00000277856   0.000                                      ⋯\n",
       "ENSG00000276345   0.000                                      ⋯\n",
       "ENSG00000278633   0.000                                      ⋯\n",
       "                BMLHE40_KO_D01_GT24-00865_GATCTATC-AGCCTCAT_S189\n",
       "ENSG00000268674   0.000                                         \n",
       "ENSG00000271254 774.844                                         \n",
       "ENSG00000275063   0.000                                         \n",
       "ENSG00000277856   0.000                                         \n",
       "ENSG00000276345   0.000                                         \n",
       "ENSG00000278633   0.000                                         \n",
       "                BMLHE40_CE_A06_GT24-00866_AGCTCGCT-GATTCTGC_S190\n",
       "ENSG00000268674   0.000                                         \n",
       "ENSG00000271254 820.668                                         \n",
       "ENSG00000275063   0.000                                         \n",
       "ENSG00000277856   0.000                                         \n",
       "ENSG00000276345   6.398                                         \n",
       "ENSG00000278633   0.000                                         \n",
       "                BMLHE40_CE_B06_GT24-00867_CGGAACTG-TCGTAGTG_S194\n",
       "ENSG00000268674   0.000                                         \n",
       "ENSG00000271254 868.616                                         \n",
       "ENSG00000275063   0.000                                         \n",
       "ENSG00000277856   0.000                                         \n",
       "ENSG00000276345   0.000                                         \n",
       "ENSG00000278633   0.000                                         \n",
       "                BMLHE40_CE_H05_GT24-00868_TAAGGTCA-CTACGACA_S192\n",
       "ENSG00000268674   0.000                                         \n",
       "ENSG00000271254 751.943                                         \n",
       "ENSG00000275063   0.000                                         \n",
       "ENSG00000277856   0.000                                         \n",
       "ENSG00000276345   4.655                                         \n",
       "ENSG00000278633   0.000                                         \n",
       "                BMLHE40_PTC_B12_GT24-00869_TTGCCTAG-TAAGTGGT_S196\n",
       "ENSG00000268674   0.000                                          \n",
       "ENSG00000271254 874.940                                          \n",
       "ENSG00000275063   0.000                                          \n",
       "ENSG00000277856   0.000                                          \n",
       "ENSG00000276345   2.387                                          \n",
       "ENSG00000278633   0.000                                          \n",
       "                BMLHE40_PTC_C11_GT24-00870_CCATTCGA-CGGACAAC_S197\n",
       "ENSG00000268674   0.000                                          \n",
       "ENSG00000271254 616.084                                          \n",
       "ENSG00000275063   0.000                                          \n",
       "ENSG00000277856   0.000                                          \n",
       "ENSG00000276345   2.094                                          \n",
       "ENSG00000278633   0.000                                          \n",
       "                BMLHE40_PTC_D09_GT24-00871_ACACTAAG-ATATGGAT_S195\n",
       "ENSG00000268674   0.000                                          \n",
       "ENSG00000271254 996.554                                          \n",
       "ENSG00000275063   0.000                                          \n",
       "ENSG00000277856   0.000                                          \n",
       "ENSG00000276345   2.780                                          \n",
       "ENSG00000278633   0.000                                          \n",
       "                BMLHE40_WT_1_GT24-00872_GTGTCGGA-GCGCAAGC_S193\n",
       "ENSG00000268674    0.00                                       \n",
       "ENSG00000271254 1037.35                                       \n",
       "ENSG00000275063    0.00                                       \n",
       "ENSG00000277856    0.00                                       \n",
       "ENSG00000276345    0.00                                       \n",
       "ENSG00000278633    0.00                                       \n",
       "                BMLHE40_WT_2_GT24-00873_TTCCTGTT-AAGATACT_S191\n",
       "ENSG00000268674    0.00                                       \n",
       "ENSG00000271254 1315.03                                       \n",
       "ENSG00000275063    0.00                                       \n",
       "ENSG00000277856    0.00                                       \n",
       "ENSG00000276345    0.00                                       \n",
       "ENSG00000278633    0.00                                       \n",
       "                BMLHE40_WT_3_GT24-00874_CCTTCACC-GGAGCGTC_S188\n",
       "ENSG00000268674    0.00                                       \n",
       "ENSG00000271254 1268.56                                       \n",
       "ENSG00000275063    0.00                                       \n",
       "ENSG00000277856    0.00                                       \n",
       "ENSG00000276345    0.00                                       \n",
       "ENSG00000278633    0.00                                       "
      ]
     },
     "metadata": {},
     "output_type": "display_data"
    },
    {
     "data": {
      "text/html": [
       "<table class=\"dataframe\">\n",
       "<caption>A data.frame: 6 × 5</caption>\n",
       "<thead>\n",
       "\t<tr><th></th><th scope=col>GEO.Accession</th><th scope=col>Sample</th><th scope=col>Type</th><th scope=col>Gene</th><th scope=col>Scheme</th></tr>\n",
       "\t<tr><th></th><th scope=col>&lt;chr&gt;</th><th scope=col>&lt;chr&gt;</th><th scope=col>&lt;chr&gt;</th><th scope=col>&lt;chr&gt;</th><th scope=col>&lt;chr&gt;</th></tr>\n",
       "</thead>\n",
       "<tbody>\n",
       "\t<tr><th scope=row>MEIS1_KO_E03_GT23-12159_CCATTCGA-CGGACAAC_S26</th><td>GSM8763708</td><td> MEIS1_KO_E03_GT23-12159_CCATTCGA-CGGACAAC_S26</td><td>KO</td><td>MEIS1</td><td>mesenchymal cell formation</td></tr>\n",
       "\t<tr><th scope=row>MEIS1_KO_F04_GT23-12160_ACACTAAG-ATATGGAT_S11</th><td>GSM8763709</td><td> MEIS1_KO_F04_GT23-12160_ACACTAAG-ATATGGAT_S11</td><td>KO</td><td>MEIS1</td><td>mesenchymal cell formation</td></tr>\n",
       "\t<tr><th scope=row>MEIS1_KO_H03_GT23-12161_GTGTCGGA-GCGCAAGC_S25</th><td>GSM8763710</td><td> MEIS1_KO_H03_GT23-12161_GTGTCGGA-GCGCAAGC_S25</td><td>KO</td><td>MEIS1</td><td>mesenchymal cell formation</td></tr>\n",
       "\t<tr><th scope=row>MEIS1_CE_H08_GT23-12162_TTCCTGTT-AAGATACT_S12</th><td>GSM8763711</td><td> MEIS1_CE_H08_GT23-12162_TTCCTGTT-AAGATACT_S12</td><td>CE</td><td>MEIS1</td><td>mesenchymal cell formation</td></tr>\n",
       "\t<tr><th scope=row>MEIS1_CE_C07_GT23-12163_CCTTCACC-GGAGCGTC_S30</th><td>GSM8763712</td><td> MEIS1_CE_C07_GT23-12163_CCTTCACC-GGAGCGTC_S30</td><td>CE</td><td>MEIS1</td><td>mesenchymal cell formation</td></tr>\n",
       "\t<tr><th scope=row>MEIS1_CE_E06_GT23-12164_GCCACAGG-ATGGCATG_S2</th><td>GSM8763713</td><td> MEIS1_CE_E06_GT23-12164_GCCACAGG-ATGGCATG_S2 </td><td>CE</td><td>MEIS1</td><td>mesenchymal cell formation</td></tr>\n",
       "</tbody>\n",
       "</table>\n"
      ],
      "text/latex": [
       "A data.frame: 6 × 5\n",
       "\\begin{tabular}{r|lllll}\n",
       "  & GEO.Accession & Sample & Type & Gene & Scheme\\\\\n",
       "  & <chr> & <chr> & <chr> & <chr> & <chr>\\\\\n",
       "\\hline\n",
       "\tMEIS1\\_KO\\_E03\\_GT23-12159\\_CCATTCGA-CGGACAAC\\_S26 & GSM8763708 &  MEIS1\\_KO\\_E03\\_GT23-12159\\_CCATTCGA-CGGACAAC\\_S26 & KO & MEIS1 & mesenchymal cell formation\\\\\n",
       "\tMEIS1\\_KO\\_F04\\_GT23-12160\\_ACACTAAG-ATATGGAT\\_S11 & GSM8763709 &  MEIS1\\_KO\\_F04\\_GT23-12160\\_ACACTAAG-ATATGGAT\\_S11 & KO & MEIS1 & mesenchymal cell formation\\\\\n",
       "\tMEIS1\\_KO\\_H03\\_GT23-12161\\_GTGTCGGA-GCGCAAGC\\_S25 & GSM8763710 &  MEIS1\\_KO\\_H03\\_GT23-12161\\_GTGTCGGA-GCGCAAGC\\_S25 & KO & MEIS1 & mesenchymal cell formation\\\\\n",
       "\tMEIS1\\_CE\\_H08\\_GT23-12162\\_TTCCTGTT-AAGATACT\\_S12 & GSM8763711 &  MEIS1\\_CE\\_H08\\_GT23-12162\\_TTCCTGTT-AAGATACT\\_S12 & CE & MEIS1 & mesenchymal cell formation\\\\\n",
       "\tMEIS1\\_CE\\_C07\\_GT23-12163\\_CCTTCACC-GGAGCGTC\\_S30 & GSM8763712 &  MEIS1\\_CE\\_C07\\_GT23-12163\\_CCTTCACC-GGAGCGTC\\_S30 & CE & MEIS1 & mesenchymal cell formation\\\\\n",
       "\tMEIS1\\_CE\\_E06\\_GT23-12164\\_GCCACAGG-ATGGCATG\\_S2 & GSM8763713 &  MEIS1\\_CE\\_E06\\_GT23-12164\\_GCCACAGG-ATGGCATG\\_S2  & CE & MEIS1 & mesenchymal cell formation\\\\\n",
       "\\end{tabular}\n"
      ],
      "text/markdown": [
       "\n",
       "A data.frame: 6 × 5\n",
       "\n",
       "| <!--/--> | GEO.Accession &lt;chr&gt; | Sample &lt;chr&gt; | Type &lt;chr&gt; | Gene &lt;chr&gt; | Scheme &lt;chr&gt; |\n",
       "|---|---|---|---|---|---|\n",
       "| MEIS1_KO_E03_GT23-12159_CCATTCGA-CGGACAAC_S26 | GSM8763708 |  MEIS1_KO_E03_GT23-12159_CCATTCGA-CGGACAAC_S26 | KO | MEIS1 | mesenchymal cell formation |\n",
       "| MEIS1_KO_F04_GT23-12160_ACACTAAG-ATATGGAT_S11 | GSM8763709 |  MEIS1_KO_F04_GT23-12160_ACACTAAG-ATATGGAT_S11 | KO | MEIS1 | mesenchymal cell formation |\n",
       "| MEIS1_KO_H03_GT23-12161_GTGTCGGA-GCGCAAGC_S25 | GSM8763710 |  MEIS1_KO_H03_GT23-12161_GTGTCGGA-GCGCAAGC_S25 | KO | MEIS1 | mesenchymal cell formation |\n",
       "| MEIS1_CE_H08_GT23-12162_TTCCTGTT-AAGATACT_S12 | GSM8763711 |  MEIS1_CE_H08_GT23-12162_TTCCTGTT-AAGATACT_S12 | CE | MEIS1 | mesenchymal cell formation |\n",
       "| MEIS1_CE_C07_GT23-12163_CCTTCACC-GGAGCGTC_S30 | GSM8763712 |  MEIS1_CE_C07_GT23-12163_CCTTCACC-GGAGCGTC_S30 | CE | MEIS1 | mesenchymal cell formation |\n",
       "| MEIS1_CE_E06_GT23-12164_GCCACAGG-ATGGCATG_S2 | GSM8763713 |  MEIS1_CE_E06_GT23-12164_GCCACAGG-ATGGCATG_S2  | CE | MEIS1 | mesenchymal cell formation |\n",
       "\n"
      ],
      "text/plain": [
       "                                              GEO.Accession\n",
       "MEIS1_KO_E03_GT23-12159_CCATTCGA-CGGACAAC_S26 GSM8763708   \n",
       "MEIS1_KO_F04_GT23-12160_ACACTAAG-ATATGGAT_S11 GSM8763709   \n",
       "MEIS1_KO_H03_GT23-12161_GTGTCGGA-GCGCAAGC_S25 GSM8763710   \n",
       "MEIS1_CE_H08_GT23-12162_TTCCTGTT-AAGATACT_S12 GSM8763711   \n",
       "MEIS1_CE_C07_GT23-12163_CCTTCACC-GGAGCGTC_S30 GSM8763712   \n",
       "MEIS1_CE_E06_GT23-12164_GCCACAGG-ATGGCATG_S2  GSM8763713   \n",
       "                                              Sample                                        \n",
       "MEIS1_KO_E03_GT23-12159_CCATTCGA-CGGACAAC_S26  MEIS1_KO_E03_GT23-12159_CCATTCGA-CGGACAAC_S26\n",
       "MEIS1_KO_F04_GT23-12160_ACACTAAG-ATATGGAT_S11  MEIS1_KO_F04_GT23-12160_ACACTAAG-ATATGGAT_S11\n",
       "MEIS1_KO_H03_GT23-12161_GTGTCGGA-GCGCAAGC_S25  MEIS1_KO_H03_GT23-12161_GTGTCGGA-GCGCAAGC_S25\n",
       "MEIS1_CE_H08_GT23-12162_TTCCTGTT-AAGATACT_S12  MEIS1_CE_H08_GT23-12162_TTCCTGTT-AAGATACT_S12\n",
       "MEIS1_CE_C07_GT23-12163_CCTTCACC-GGAGCGTC_S30  MEIS1_CE_C07_GT23-12163_CCTTCACC-GGAGCGTC_S30\n",
       "MEIS1_CE_E06_GT23-12164_GCCACAGG-ATGGCATG_S2   MEIS1_CE_E06_GT23-12164_GCCACAGG-ATGGCATG_S2 \n",
       "                                              Type Gene \n",
       "MEIS1_KO_E03_GT23-12159_CCATTCGA-CGGACAAC_S26 KO   MEIS1\n",
       "MEIS1_KO_F04_GT23-12160_ACACTAAG-ATATGGAT_S11 KO   MEIS1\n",
       "MEIS1_KO_H03_GT23-12161_GTGTCGGA-GCGCAAGC_S25 KO   MEIS1\n",
       "MEIS1_CE_H08_GT23-12162_TTCCTGTT-AAGATACT_S12 CE   MEIS1\n",
       "MEIS1_CE_C07_GT23-12163_CCTTCACC-GGAGCGTC_S30 CE   MEIS1\n",
       "MEIS1_CE_E06_GT23-12164_GCCACAGG-ATGGCATG_S2  CE   MEIS1\n",
       "                                              Scheme                    \n",
       "MEIS1_KO_E03_GT23-12159_CCATTCGA-CGGACAAC_S26 mesenchymal cell formation\n",
       "MEIS1_KO_F04_GT23-12160_ACACTAAG-ATATGGAT_S11 mesenchymal cell formation\n",
       "MEIS1_KO_H03_GT23-12161_GTGTCGGA-GCGCAAGC_S25 mesenchymal cell formation\n",
       "MEIS1_CE_H08_GT23-12162_TTCCTGTT-AAGATACT_S12 mesenchymal cell formation\n",
       "MEIS1_CE_C07_GT23-12163_CCTTCACC-GGAGCGTC_S30 mesenchymal cell formation\n",
       "MEIS1_CE_E06_GT23-12164_GCCACAGG-ATGGCATG_S2  mesenchymal cell formation"
      ]
     },
     "metadata": {},
     "output_type": "display_data"
    }
   ],
   "source": [
    "rownames(meta_data) = meta_data$Sample\n",
    "# trim the ends \n",
    "colnames(raw_cnts) <- gsub(\"_L\\\\d{3}$\", \"\", colnames(raw_cnts))\n",
    "# replace dot (.) to hyphen (-)\n",
    "colnames(raw_cnts) <- gsub(\"\\\\.\", \"-\", colnames(raw_cnts))\n",
    "rownames(meta_data) <- trimws(rownames(meta_data))\n",
    "table(rownames(meta_data) %in% colnames(raw_cnts))\n",
    "raw_cnts = raw_cnts[,rownames(meta_data)]\n",
    "dim(raw_cnts)\n",
    "dim(meta_data)\n",
    "head(raw_cnts)\n",
    "head(meta_data)"
   ]
  },
  {
   "cell_type": "code",
   "execution_count": 6,
   "id": "9eb56bed-5b8c-4edc-a756-0c40829b31eb",
   "metadata": {},
   "outputs": [],
   "source": [
    "# Convert floating-point values to integers\n",
    "raw_cnts <- round(raw_cnts) "
   ]
  },
  {
   "cell_type": "code",
   "execution_count": 7,
   "id": "9a0d7978-a7b9-47e9-8ccb-105214ab6439",
   "metadata": {},
   "outputs": [
    {
     "data": {
      "text/plain": [
       "\n",
       " CE  KO PTC  WT \n",
       " 21  19  21  21 "
      ]
     },
     "metadata": {},
     "output_type": "display_data"
    }
   ],
   "source": [
    "# Convert meta_data from char to factor\n",
    "meta_data$Type <- as.factor(meta_data$Type)\n",
    "table(meta_data$Type)"
   ]
  },
  {
   "cell_type": "code",
   "execution_count": 8,
   "id": "0ef4b31c-7027-4150-9636-8e2cdfc5bf9f",
   "metadata": {},
   "outputs": [
    {
     "data": {
      "text/html": [
       "TRUE"
      ],
      "text/latex": [
       "TRUE"
      ],
      "text/markdown": [
       "TRUE"
      ],
      "text/plain": [
       "[1] TRUE"
      ]
     },
     "metadata": {},
     "output_type": "display_data"
    }
   ],
   "source": [
    "# Should return TRUE \n",
    "all(rownames(meta_data) == colnames(raw_cnts))  "
   ]
  },
  {
   "cell_type": "code",
   "execution_count": 9,
   "id": "ddf82b2e-95da-4637-8709-11672fd2b189",
   "metadata": {},
   "outputs": [
    {
     "name": "stderr",
     "output_type": "stream",
     "text": [
      "converting counts to integer mode\n",
      "\n"
     ]
    }
   ],
   "source": [
    "# Create a DESeq2 dataset from raw counts and sample metadata\n",
    "dds <- DESeqDataSetFromMatrix(countData = raw_cnts,\n",
    "                              colData = meta_data, #\n",
    "                              design = ~ Type)  # WT, KO, PTC, CE\n",
    "\n",
    "# Pre-filtering https://bioconductor.org/packages/3.21/bioc/vignettes/DESeq2/inst/doc/DESeq2.html#quick-start\n",
    "smallestGroupSize <- 3\n",
    "keep <- rowSums(counts(dds) >= 10) >= smallestGroupSize\n",
    "dds <- dds[keep,]\n",
    "\n",
    "# Set reference level to WT\n",
    "dds$Type <- relevel(dds$Type, ref=\"WT\")"
   ]
  },
  {
   "cell_type": "code",
   "execution_count": 10,
   "id": "7a325373-5f87-43d8-b4f5-2bc9775680b9",
   "metadata": {},
   "outputs": [
    {
     "name": "stderr",
     "output_type": "stream",
     "text": [
      "estimating size factors\n",
      "\n",
      "estimating dispersions\n",
      "\n",
      "gene-wise dispersion estimates\n",
      "\n",
      "mean-dispersion relationship\n",
      "\n",
      "final dispersion estimates\n",
      "\n",
      "fitting model and testing\n",
      "\n",
      "-- replacing outliers and refitting for 17 genes\n",
      "-- DESeq argument 'minReplicatesForReplace' = 7 \n",
      "-- original counts are preserved in counts(dds)\n",
      "\n",
      "estimating dispersions\n",
      "\n",
      "fitting model and testing\n",
      "\n"
     ]
    }
   ],
   "source": [
    "# Run DESeq analysis on dds\n",
    "dds <- DESeq(dds)"
   ]
  },
  {
   "cell_type": "code",
   "execution_count": 11,
   "id": "61ebfabe-6fe0-4ed6-9f50-8bff685dfe67",
   "metadata": {},
   "outputs": [
    {
     "name": "stdout",
     "output_type": "stream",
     "text": [
      "\n",
      "out of 33049 with nonzero total read count\n",
      "adjusted p-value < 0.1\n",
      "LFC > 0 (up)       : 0, 0%\n",
      "LFC < 0 (down)     : 0, 0%\n",
      "outliers [1]       : 0, 0%\n",
      "low counts [2]     : 2, 0.0061%\n",
      "(mean count < 0)\n",
      "[1] see 'cooksCutoff' argument of ?results\n",
      "[2] see 'independentFiltering' argument of ?results\n",
      "\n"
     ]
    }
   ],
   "source": [
    "res_PTC_vs_WT <- results(dds, contrast = c(\"Type\", \"PTC\", \"WT\"))\n",
    "res_KO_vs_WT <- results(dds, contrast = c(\"Type\", \"KO\", \"WT\"))\n",
    "res_CE_vs_WT <- results(dds, contrast = c(\"Type\", \"CE\", \"WT\"))\n",
    "summary(res)"
   ]
  },
  {
   "cell_type": "code",
   "execution_count": 12,
   "id": "d204c50a-3f4f-4aa7-a16d-b996bcaeed22",
   "metadata": {},
   "outputs": [],
   "source": [
    "# Filter out significantly differentiated genes (p=value < .05 and log2FoldChange > 1 or < -1\n",
    "res_sig <- subset(res, padj < 0.05 & abs(log2FoldChange) > 1)"
   ]
  },
  {
   "cell_type": "code",
   "execution_count": null,
   "id": "3f7e2a74-9544-444f-86af-752761ce8c30",
   "metadata": {},
   "outputs": [],
   "source": [
    "# Create an MA plot\n",
    "plotMA(res, main=\"DESeq2 MA Plot\")"
   ]
  },
  {
   "cell_type": "code",
   "execution_count": null,
   "id": "0313e66c-d350-4dc8-96b2-1cfb3107b2bd",
   "metadata": {},
   "outputs": [],
   "source": [
    "# Create a volcano plot\n",
    "library(ggplot2)\n",
    "ggplot(as.data.frame(res), aes(x=log2FoldChange, y=-log10(padj))) +\n",
    "    geom_point(alpha=0.4) +\n",
    "    geom_vline(xintercept=c(-1,1), linetype=\"dashed\", color=\"red\") +\n",
    "    geom_hline(yintercept=-log10(0.05), linetype=\"dashed\", color=\"blue\")"
   ]
  },
  {
   "cell_type": "code",
   "execution_count": null,
   "id": "e707d9f7-0ecc-4c18-881c-d32e664f307f",
   "metadata": {},
   "outputs": [],
   "source": [
    "# Heatmap of Top DEGs\n",
    "# Extract top differentially expressed genes\n",
    "top_degs <- rownames(head(res_sig[order(res_sig$padj), ], 30))\n",
    "\n",
    "# Normalize counts using variance stabilizing transformation (VST)\n",
    "vsd <- vst(dds, blind=FALSE)\n",
    "\n",
    "# Subset for top differentially expressed genes\n",
    "norm_counts <- assay(vsd)[top_degs, ]\n",
    "\n",
    "# Ensure column names match metadata\n",
    "colnames(norm_counts) <- meta_data$Type\n",
    "\n",
    "# Define colors for heatmap\n",
    "heat_colors <- colorRampPalette(c(\"blue\", \"white\", \"red\"))(256)\n",
    "\n",
    "# Plot heatmap\n",
    "heatmap(norm_counts, \n",
    "        scale=\"row\",              # Standardize rows (genes)\n",
    "        Colv=NA, Rowv=NA,         # No hierarchical clustering\n",
    "        col=heat_colors,          # Color gradient\n",
    "        margins=c(10,10),         # Adjust margins\n",
    "        xlab=\"Samples\", \n",
    "        ylab=\"Top DEGs\", \n",
    "        main=\"Heatmap of Top Differentially Expressed Genes\")\n"
   ]
  },
  {
   "cell_type": "code",
   "execution_count": null,
   "id": "14f9c73a-2ed0-4898-98bf-79dbbe8fb0ef",
   "metadata": {},
   "outputs": [],
   "source": []
  }
 ],
 "metadata": {
  "kernelspec": {
   "display_name": "R",
   "language": "R",
   "name": "ir"
  },
  "language_info": {
   "codemirror_mode": "r",
   "file_extension": ".r",
   "mimetype": "text/x-r-source",
   "name": "R",
   "pygments_lexer": "r",
   "version": "4.3.3"
  }
 },
 "nbformat": 4,
 "nbformat_minor": 5
}
